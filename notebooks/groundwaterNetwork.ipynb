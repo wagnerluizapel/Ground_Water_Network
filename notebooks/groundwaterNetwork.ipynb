{
 "cells": [
  {
   "cell_type": "code",
   "execution_count": 32,
   "id": "bdb259a1-51ea-430e-8ac0-cdca4fae8198",
   "metadata": {},
   "outputs": [],
   "source": [
    "# ====================================================\n",
    "# Project: Hydrological Monitoring in Brisbane\n",
    "# Author: Wagner Luiz Apel\n",
    "# ====================================================\n",
    "\n",
    "# 1. Import libraries\n",
    "import pandas as pd\n",
    "import matplotlib.pyplot as plt\n",
    "import seaborn as sns\n",
    "import folium\n",
    "from folium.plugins import MarkerCluster\n",
    "from warnings import filterwarnings\n",
    "filterwarnings('ignore')"
   ]
  },
  {
   "cell_type": "code",
   "execution_count": 33,
   "id": "af3095be-5f42-4f45-8671-c55259a702b3",
   "metadata": {},
   "outputs": [],
   "source": [
    "# 2. Loading the data\n",
    "# Let's use the columns: FORMATION, LAT, LONG\n",
    "df = pd.read_csv(r'../data/raw/groundwater-network.csv') \n"
   ]
  },
  {
   "cell_type": "code",
   "execution_count": 34,
   "id": "86eb2609-e9be-4296-bfc5-a07ac81266b1",
   "metadata": {},
   "outputs": [
    {
     "data": {
      "text/html": [
       "<div>\n",
       "<style scoped>\n",
       "    .dataframe tbody tr th:only-of-type {\n",
       "        vertical-align: middle;\n",
       "    }\n",
       "\n",
       "    .dataframe tbody tr th {\n",
       "        vertical-align: top;\n",
       "    }\n",
       "\n",
       "    .dataframe thead th {\n",
       "        text-align: right;\n",
       "    }\n",
       "</style>\n",
       "<table border=\"1\" class=\"dataframe\">\n",
       "  <thead>\n",
       "    <tr style=\"text-align: right;\">\n",
       "      <th></th>\n",
       "      <th>BASIN</th>\n",
       "      <th>SUBBASIN</th>\n",
       "      <th>BASIN NAME</th>\n",
       "      <th>SUBBASIN NAME</th>\n",
       "      <th>SITE NO</th>\n",
       "      <th>SALTWATER INTRUSION</th>\n",
       "      <th>WL FREQUENCY</th>\n",
       "      <th>PERIOD (YEARS)</th>\n",
       "      <th>WQ</th>\n",
       "      <th>WQ Frequency</th>\n",
       "      <th>TEL</th>\n",
       "      <th>FORMATION</th>\n",
       "      <th>LAT</th>\n",
       "      <th>LONG</th>\n",
       "    </tr>\n",
       "  </thead>\n",
       "  <tbody>\n",
       "    <tr>\n",
       "      <th>0</th>\n",
       "      <td>1</td>\n",
       "      <td>11</td>\n",
       "      <td>Georgina</td>\n",
       "      <td>Eyre Creek</td>\n",
       "      <td>146680A</td>\n",
       "      <td>No</td>\n",
       "      <td>1</td>\n",
       "      <td>3</td>\n",
       "      <td>Yes</td>\n",
       "      <td>NaN</td>\n",
       "      <td>NaN</td>\n",
       "      <td>LONGSIGHT SANDSTONE</td>\n",
       "      <td>-24.3568</td>\n",
       "      <td>140.0010</td>\n",
       "    </tr>\n",
       "    <tr>\n",
       "      <th>1</th>\n",
       "      <td>1</td>\n",
       "      <td>11</td>\n",
       "      <td>Georgina</td>\n",
       "      <td>Eyre Creek</td>\n",
       "      <td>93361A</td>\n",
       "      <td>No</td>\n",
       "      <td>1</td>\n",
       "      <td>3</td>\n",
       "      <td>Yes</td>\n",
       "      <td>NaN</td>\n",
       "      <td>NaN</td>\n",
       "      <td>LONGSIGHT SANDSTONE</td>\n",
       "      <td>-24.4445</td>\n",
       "      <td>139.3463</td>\n",
       "    </tr>\n",
       "    <tr>\n",
       "      <th>2</th>\n",
       "      <td>1</td>\n",
       "      <td>11</td>\n",
       "      <td>Georgina</td>\n",
       "      <td>Eyre Creek</td>\n",
       "      <td>51642A</td>\n",
       "      <td>No</td>\n",
       "      <td>1</td>\n",
       "      <td>3</td>\n",
       "      <td>Yes</td>\n",
       "      <td>NaN</td>\n",
       "      <td>NaN</td>\n",
       "      <td>LONGSIGHT SANDSTONE</td>\n",
       "      <td>-22.9627</td>\n",
       "      <td>140.5167</td>\n",
       "    </tr>\n",
       "    <tr>\n",
       "      <th>3</th>\n",
       "      <td>1</td>\n",
       "      <td>11</td>\n",
       "      <td>Georgina</td>\n",
       "      <td>Eyre Creek</td>\n",
       "      <td>13829A</td>\n",
       "      <td>No</td>\n",
       "      <td>1</td>\n",
       "      <td>3</td>\n",
       "      <td>Yes</td>\n",
       "      <td>NaN</td>\n",
       "      <td>NaN</td>\n",
       "      <td>LONGSIGHT SANDSTONE</td>\n",
       "      <td>-23.1558</td>\n",
       "      <td>140.2358</td>\n",
       "    </tr>\n",
       "    <tr>\n",
       "      <th>4</th>\n",
       "      <td>1</td>\n",
       "      <td>11</td>\n",
       "      <td>Georgina</td>\n",
       "      <td>Eyre Creek</td>\n",
       "      <td>13088A</td>\n",
       "      <td>No</td>\n",
       "      <td>1</td>\n",
       "      <td>3</td>\n",
       "      <td>Yes</td>\n",
       "      <td>NaN</td>\n",
       "      <td>NaN</td>\n",
       "      <td>HOORAY SANDSTONE</td>\n",
       "      <td>-25.5324</td>\n",
       "      <td>138.9879</td>\n",
       "    </tr>\n",
       "    <tr>\n",
       "      <th>...</th>\n",
       "      <td>...</td>\n",
       "      <td>...</td>\n",
       "      <td>...</td>\n",
       "      <td>...</td>\n",
       "      <td>...</td>\n",
       "      <td>...</td>\n",
       "      <td>...</td>\n",
       "      <td>...</td>\n",
       "      <td>...</td>\n",
       "      <td>...</td>\n",
       "      <td>...</td>\n",
       "      <td>...</td>\n",
       "      <td>...</td>\n",
       "      <td>...</td>\n",
       "    </tr>\n",
       "    <tr>\n",
       "      <th>3914</th>\n",
       "      <td>922</td>\n",
       "      <td>9221</td>\n",
       "      <td>Archer</td>\n",
       "      <td>Coen River</td>\n",
       "      <td>92210001A</td>\n",
       "      <td>No</td>\n",
       "      <td>2</td>\n",
       "      <td>1</td>\n",
       "      <td>NaN</td>\n",
       "      <td>NaN</td>\n",
       "      <td>Yes</td>\n",
       "      <td>GILBERT RIVER FORMATION</td>\n",
       "      <td>-13.6277</td>\n",
       "      <td>142.8056</td>\n",
       "    </tr>\n",
       "    <tr>\n",
       "      <th>3915</th>\n",
       "      <td>925</td>\n",
       "      <td>9250</td>\n",
       "      <td>Wenlock</td>\n",
       "      <td>Wenlock River</td>\n",
       "      <td>92500009A</td>\n",
       "      <td>No</td>\n",
       "      <td>2</td>\n",
       "      <td>1</td>\n",
       "      <td>NaN</td>\n",
       "      <td>NaN</td>\n",
       "      <td>Yes</td>\n",
       "      <td>GILBERT RIVER FORMATION</td>\n",
       "      <td>-12.6535</td>\n",
       "      <td>142.7085</td>\n",
       "    </tr>\n",
       "    <tr>\n",
       "      <th>3916</th>\n",
       "      <td>925</td>\n",
       "      <td>9250</td>\n",
       "      <td>Wenlock</td>\n",
       "      <td>Wenlock River</td>\n",
       "      <td>72262A</td>\n",
       "      <td>No</td>\n",
       "      <td>1</td>\n",
       "      <td>3</td>\n",
       "      <td>Yes</td>\n",
       "      <td>NaN</td>\n",
       "      <td>NaN</td>\n",
       "      <td>GARRAWAY SANDSTONE</td>\n",
       "      <td>-12.7851</td>\n",
       "      <td>142.4047</td>\n",
       "    </tr>\n",
       "    <tr>\n",
       "      <th>3917</th>\n",
       "      <td>926</td>\n",
       "      <td>9260</td>\n",
       "      <td>Ducie</td>\n",
       "      <td>Ducie River</td>\n",
       "      <td>92600003A</td>\n",
       "      <td>No</td>\n",
       "      <td>2</td>\n",
       "      <td>1</td>\n",
       "      <td>NaN</td>\n",
       "      <td>NaN</td>\n",
       "      <td>Yes</td>\n",
       "      <td>NaN</td>\n",
       "      <td>-12.2085</td>\n",
       "      <td>142.5827</td>\n",
       "    </tr>\n",
       "    <tr>\n",
       "      <th>3918</th>\n",
       "      <td>926</td>\n",
       "      <td>9260</td>\n",
       "      <td>Ducie</td>\n",
       "      <td>Ducie River</td>\n",
       "      <td>92600002A</td>\n",
       "      <td>No</td>\n",
       "      <td>3</td>\n",
       "      <td>1</td>\n",
       "      <td>NaN</td>\n",
       "      <td>NaN</td>\n",
       "      <td>Yes</td>\n",
       "      <td>HELBY BEDS</td>\n",
       "      <td>-11.7493</td>\n",
       "      <td>142.5824</td>\n",
       "    </tr>\n",
       "  </tbody>\n",
       "</table>\n",
       "<p>3919 rows × 14 columns</p>\n",
       "</div>"
      ],
      "text/plain": [
       "      BASIN  SUBBASIN BASIN NAME  SUBBASIN NAME    SITE NO  \\\n",
       "0         1        11   Georgina     Eyre Creek    146680A   \n",
       "1         1        11   Georgina     Eyre Creek     93361A   \n",
       "2         1        11   Georgina     Eyre Creek     51642A   \n",
       "3         1        11   Georgina     Eyre Creek     13829A   \n",
       "4         1        11   Georgina     Eyre Creek     13088A   \n",
       "...     ...       ...        ...            ...        ...   \n",
       "3914    922      9221     Archer     Coen River  92210001A   \n",
       "3915    925      9250    Wenlock  Wenlock River  92500009A   \n",
       "3916    925      9250    Wenlock  Wenlock River     72262A   \n",
       "3917    926      9260      Ducie    Ducie River  92600003A   \n",
       "3918    926      9260      Ducie    Ducie River  92600002A   \n",
       "\n",
       "     SALTWATER INTRUSION  WL FREQUENCY  PERIOD (YEARS)   WQ  WQ Frequency  \\\n",
       "0                     No             1               3  Yes           NaN   \n",
       "1                     No             1               3  Yes           NaN   \n",
       "2                     No             1               3  Yes           NaN   \n",
       "3                     No             1               3  Yes           NaN   \n",
       "4                     No             1               3  Yes           NaN   \n",
       "...                  ...           ...             ...  ...           ...   \n",
       "3914                  No             2               1  NaN           NaN   \n",
       "3915                  No             2               1  NaN           NaN   \n",
       "3916                  No             1               3  Yes           NaN   \n",
       "3917                  No             2               1  NaN           NaN   \n",
       "3918                  No             3               1  NaN           NaN   \n",
       "\n",
       "      TEL                FORMATION      LAT      LONG  \n",
       "0     NaN      LONGSIGHT SANDSTONE -24.3568  140.0010  \n",
       "1     NaN      LONGSIGHT SANDSTONE -24.4445  139.3463  \n",
       "2     NaN      LONGSIGHT SANDSTONE -22.9627  140.5167  \n",
       "3     NaN      LONGSIGHT SANDSTONE -23.1558  140.2358  \n",
       "4     NaN         HOORAY SANDSTONE -25.5324  138.9879  \n",
       "...   ...                      ...      ...       ...  \n",
       "3914  Yes  GILBERT RIVER FORMATION -13.6277  142.8056  \n",
       "3915  Yes  GILBERT RIVER FORMATION -12.6535  142.7085  \n",
       "3916  NaN       GARRAWAY SANDSTONE -12.7851  142.4047  \n",
       "3917  Yes                      NaN -12.2085  142.5827  \n",
       "3918  Yes               HELBY BEDS -11.7493  142.5824  \n",
       "\n",
       "[3919 rows x 14 columns]"
      ]
     },
     "execution_count": 34,
     "metadata": {},
     "output_type": "execute_result"
    }
   ],
   "source": [
    "df"
   ]
  },
  {
   "cell_type": "code",
   "execution_count": 35,
   "id": "fad56cf0-1ba2-4342-b342-64a956bc7384",
   "metadata": {},
   "outputs": [
    {
     "name": "stdout",
     "output_type": "stream",
     "text": [
      "      BASIN  SUBBASIN BASIN NAME  SUBBASIN NAME    SITE NO  \\\n",
      "0         1        11   Georgina     Eyre Creek    146680A   \n",
      "1         1        11   Georgina     Eyre Creek     93361A   \n",
      "2         1        11   Georgina     Eyre Creek     51642A   \n",
      "3         1        11   Georgina     Eyre Creek     13829A   \n",
      "4         1        11   Georgina     Eyre Creek     13088A   \n",
      "...     ...       ...        ...            ...        ...   \n",
      "3914    922      9221     Archer     Coen River  92210001A   \n",
      "3915    925      9250    Wenlock  Wenlock River  92500009A   \n",
      "3916    925      9250    Wenlock  Wenlock River     72262A   \n",
      "3917    926      9260      Ducie    Ducie River  92600003A   \n",
      "3918    926      9260      Ducie    Ducie River  92600002A   \n",
      "\n",
      "     SALTWATER INTRUSION  WL FREQUENCY  PERIOD (YEARS)   WQ  WQ Frequency  \\\n",
      "0                     No             1               3  Yes           NaN   \n",
      "1                     No             1               3  Yes           NaN   \n",
      "2                     No             1               3  Yes           NaN   \n",
      "3                     No             1               3  Yes           NaN   \n",
      "4                     No             1               3  Yes           NaN   \n",
      "...                  ...           ...             ...  ...           ...   \n",
      "3914                  No             2               1  NaN           NaN   \n",
      "3915                  No             2               1  NaN           NaN   \n",
      "3916                  No             1               3  Yes           NaN   \n",
      "3917                  No             2               1  NaN           NaN   \n",
      "3918                  No             3               1  NaN           NaN   \n",
      "\n",
      "      TEL                FORMATION      LAT      LONG  \n",
      "0     NaN      LONGSIGHT SANDSTONE -24.3568  140.0010  \n",
      "1     NaN      LONGSIGHT SANDSTONE -24.4445  139.3463  \n",
      "2     NaN      LONGSIGHT SANDSTONE -22.9627  140.5167  \n",
      "3     NaN      LONGSIGHT SANDSTONE -23.1558  140.2358  \n",
      "4     NaN         HOORAY SANDSTONE -25.5324  138.9879  \n",
      "...   ...                      ...      ...       ...  \n",
      "3914  Yes  GILBERT RIVER FORMATION -13.6277  142.8056  \n",
      "3915  Yes  GILBERT RIVER FORMATION -12.6535  142.7085  \n",
      "3916  NaN       GARRAWAY SANDSTONE -12.7851  142.4047  \n",
      "3917  Yes                      NaN -12.2085  142.5827  \n",
      "3918  Yes               HELBY BEDS -11.7493  142.5824  \n",
      "\n",
      "[3919 rows x 14 columns]\n"
     ]
    }
   ],
   "source": [
    "print(df)"
   ]
  },
  {
   "cell_type": "code",
   "execution_count": 36,
   "id": "7d6d2b45-4e96-45df-834a-44e58c7faca4",
   "metadata": {},
   "outputs": [
    {
     "data": {
      "text/plain": [
       "BASIN                     0\n",
       "SUBBASIN                  0\n",
       "BASIN NAME                0\n",
       "SUBBASIN NAME             2\n",
       "SITE NO                   0\n",
       "SALTWATER INTRUSION       0\n",
       "WL FREQUENCY              0\n",
       "PERIOD (YEARS)            0\n",
       "WQ                     3169\n",
       "WQ Frequency           3919\n",
       "TEL                    3568\n",
       "FORMATION              2236\n",
       "LAT                       0\n",
       "LONG                      0\n",
       "dtype: int64"
      ]
     },
     "execution_count": 36,
     "metadata": {},
     "output_type": "execute_result"
    }
   ],
   "source": [
    "# checking null values\n",
    "df.isnull().sum()"
   ]
  },
  {
   "cell_type": "code",
   "execution_count": 37,
   "id": "af3d9c2c-0fb5-4add-aa0f-3aefe3efa3cf",
   "metadata": {},
   "outputs": [
    {
     "data": {
      "text/plain": [
       "BASIN                    0.000000\n",
       "SUBBASIN                 0.000000\n",
       "BASIN NAME               0.000000\n",
       "SUBBASIN NAME            0.051033\n",
       "SITE NO                  0.000000\n",
       "SALTWATER INTRUSION      0.000000\n",
       "WL FREQUENCY             0.000000\n",
       "PERIOD (YEARS)           0.000000\n",
       "WQ                      80.862465\n",
       "WQ Frequency           100.000000\n",
       "TEL                     91.043634\n",
       "FORMATION               57.055371\n",
       "LAT                      0.000000\n",
       "LONG                     0.000000\n",
       "dtype: float64"
      ]
     },
     "execution_count": 37,
     "metadata": {},
     "output_type": "execute_result"
    }
   ],
   "source": [
    "# computing % of missing values\n",
    "df.isnull().sum()/len(df)*100"
   ]
  },
  {
   "cell_type": "code",
   "execution_count": 38,
   "id": "0621396f-d36d-4234-a956-dbba2a21f533",
   "metadata": {},
   "outputs": [
    {
     "data": {
      "text/plain": [
       "0       False\n",
       "1       False\n",
       "2       False\n",
       "3       False\n",
       "4       False\n",
       "        ...  \n",
       "3914    False\n",
       "3915    False\n",
       "3916    False\n",
       "3917    False\n",
       "3918    False\n",
       "Length: 3919, dtype: bool"
      ]
     },
     "execution_count": 38,
     "metadata": {},
     "output_type": "execute_result"
    }
   ],
   "source": [
    "# check duplicated values and consider this is a filter\n",
    "df.duplicated()"
   ]
  },
  {
   "cell_type": "code",
   "execution_count": 39,
   "id": "ac162dcf-5925-4c75-87ec-a068034fea85",
   "metadata": {},
   "outputs": [
    {
     "data": {
      "text/plain": [
       "BASIN                  0.0\n",
       "SUBBASIN               0.0\n",
       "BASIN NAME             0.0\n",
       "SUBBASIN NAME          0.0\n",
       "SITE NO                0.0\n",
       "SALTWATER INTRUSION    0.0\n",
       "WL FREQUENCY           0.0\n",
       "PERIOD (YEARS)         0.0\n",
       "WQ                     0.0\n",
       "WQ Frequency           0.0\n",
       "TEL                    0.0\n",
       "FORMATION              0.0\n",
       "LAT                    0.0\n",
       "LONG                   0.0\n",
       "dtype: object"
      ]
     },
     "execution_count": 39,
     "metadata": {},
     "output_type": "execute_result"
    }
   ],
   "source": [
    "#filtering, check if all these rows are duplicated with each other\n",
    "df[df.duplicated()].sum()/len(df)*100"
   ]
  },
  {
   "cell_type": "code",
   "execution_count": 40,
   "id": "119cd26c-5a5c-400f-aaaf-6aab66ca2cbd",
   "metadata": {},
   "outputs": [
    {
     "data": {
      "text/plain": [
       "Index(['BASIN', 'SUBBASIN', 'BASIN NAME', 'SUBBASIN NAME', 'SITE NO',\n",
       "       'SALTWATER INTRUSION', 'WL FREQUENCY', 'PERIOD (YEARS)', 'WQ',\n",
       "       'WQ Frequency', 'TEL', 'FORMATION', 'LAT', 'LONG'],\n",
       "      dtype='object')"
      ]
     },
     "execution_count": 40,
     "metadata": {},
     "output_type": "execute_result"
    }
   ],
   "source": [
    "df.columns"
   ]
  },
  {
   "cell_type": "code",
   "execution_count": 41,
   "id": "66b83c44-c621-4b3e-b75d-dfdf08f728ff",
   "metadata": {},
   "outputs": [
    {
     "name": "stdout",
     "output_type": "stream",
     "text": [
      "     BASIN NAME                FORMATION      LAT      LONG\n",
      "0      Georgina      LONGSIGHT SANDSTONE -24.3568  140.0010\n",
      "1      Georgina      LONGSIGHT SANDSTONE -24.4445  139.3463\n",
      "2      Georgina      LONGSIGHT SANDSTONE -22.9627  140.5167\n",
      "3      Georgina      LONGSIGHT SANDSTONE -23.1558  140.2358\n",
      "4      Georgina         HOORAY SANDSTONE -25.5324  138.9879\n",
      "...         ...                      ...      ...       ...\n",
      "3914     Archer  GILBERT RIVER FORMATION -13.6277  142.8056\n",
      "3915    Wenlock  GILBERT RIVER FORMATION -12.6535  142.7085\n",
      "3916    Wenlock       GARRAWAY SANDSTONE -12.7851  142.4047\n",
      "3917      Ducie                      NaN -12.2085  142.5827\n",
      "3918      Ducie               HELBY BEDS -11.7493  142.5824\n",
      "\n",
      "[3919 rows x 4 columns]\n"
     ]
    }
   ],
   "source": [
    "df = df[[\"BASIN NAME\", \"FORMATION\", \"LAT\", \"LONG\"]]\n",
    "print(df)"
   ]
  },
  {
   "cell_type": "code",
   "execution_count": 42,
   "id": "fb64b2a4-3105-43f9-9bfa-e1e63da3d445",
   "metadata": {},
   "outputs": [
    {
     "name": "stdout",
     "output_type": "stream",
     "text": [
      "\n",
      "Data summary:\n",
      "               LAT         LONG\n",
      "count  3919.000000  3919.000000\n",
      "mean    -23.342257   149.590232\n",
      "std       3.639628     2.740086\n",
      "min     -29.130100   138.951200\n",
      "25%     -27.171150   147.369600\n",
      "50%     -24.493600   149.750300\n",
      "75%     -19.817450   152.255750\n",
      "max     -11.749300   153.509200\n"
     ]
    }
   ],
   "source": [
    "# 3. Basic Statistics\n",
    "print(\"\\nData summary:\")\n",
    "print(df.describe())"
   ]
  },
  {
   "cell_type": "code",
   "execution_count": 43,
   "id": "2ef83289-ac1a-4730-b30e-8e94884e7639",
   "metadata": {},
   "outputs": [
    {
     "name": "stdout",
     "output_type": "stream",
     "text": [
      "\n",
      "Unique monitored formations:\n",
      "178\n"
     ]
    }
   ],
   "source": [
    "print(\"\\nUnique monitored formations:\")\n",
    "print(df['FORMATION'].nunique())"
   ]
  },
  {
   "cell_type": "code",
   "execution_count": 44,
   "id": "b06a89af-f434-445a-bb9d-9b6d55b1758e",
   "metadata": {},
   "outputs": [
    {
     "name": "stdout",
     "output_type": "stream",
     "text": [
      "\n",
      "Basin Name:\n",
      "53\n"
     ]
    }
   ],
   "source": [
    "print(\"\\nBasin Name:\")\n",
    "print(df['BASIN NAME'].nunique())"
   ]
  },
  {
   "cell_type": "code",
   "execution_count": 45,
   "id": "ef1fcaae-5cf5-41d0-a714-8ca09c6adba0",
   "metadata": {},
   "outputs": [
    {
     "data": {
      "image/png": "[encoded data removed]",
      "text/plain": [
       "<Figure size 1000x500 with 1 Axes>"
      ]
     },
     "metadata": {},
     "output_type": "display_data"
    }
   ],
   "source": [
    "# 4. Point count by formation\n",
    "plt.figure(figsize=(10,5))\n",
    "sns.countplot(data=df, x=\"FORMATION\", order=df['FORMATION'].value_counts().nlargest(20).index)\n",
    "plt.xticks(rotation=90)\n",
    "plt.title(\"Number of monitoring points per river - Top 20\")\n",
    "plt.show()"
   ]
  },
  {
   "cell_type": "code",
   "execution_count": 46,
   "id": "30c1584d-8215-433b-98ed-6b897efd338f",
   "metadata": {},
   "outputs": [
    {
     "data": {
      "image/png": "[encoded data removed]",
      "text/plain": [
       "<Figure size 800x1000 with 1 Axes>"
      ]
     },
     "metadata": {},
     "output_type": "display_data"
    }
   ],
   "source": [
    "plt.figure(figsize=(8,10))\n",
    "sns.countplot(data=df, y=\"FORMATION\", order=df['FORMATION'].value_counts()[0:10].index)\n",
    "plt.title(\"Number of monitoring points per river - Top 10\")\n",
    "plt.show()"
   ]
  },
  {
   "cell_type": "code",
   "execution_count": 26,
   "id": "d4082440-5720-40d2-9b8d-2005bb263eb8",
   "metadata": {},
   "outputs": [],
   "source": [
    "# 5. Create map - Focus at Brisbane (-27.4698, 153.0251)\n",
    "mapa = folium.Map(location=[-27.4698, 153.0251], zoom_start=9)"
   ]
  },
  {
   "cell_type": "code",
   "execution_count": 27,
   "id": "73313c0a-8500-4f62-bcd8-b76f67533371",
   "metadata": {},
   "outputs": [],
   "source": [
    "# 6. Group points into clusters\n",
    "marker_cluster = MarkerCluster().add_to(mapa)"
   ]
  },
  {
   "cell_type": "code",
   "execution_count": 48,
   "id": "08c4350f-5181-43b5-bd49-3714e9c73c2f",
   "metadata": {},
   "outputs": [],
   "source": [
    "for i, row in df.iterrows():\n",
    "    folium.Marker(\n",
    "        location=[row['LAT'], row['LONG']],\n",
    "        popup=f\"Formation: {row['FORMATION']}\",\n",
    "        icon=folium.Icon(color=\"blue\", icon=\"tint\", prefix=\"fa\")\n",
    "    ).add_to(marker_cluster)"
   ]
  },
  {
   "cell_type": "code",
   "execution_count": 49,
   "id": "c43c1f06-879e-49ac-8cf5-8538fd5506aa",
   "metadata": {},
   "outputs": [
    {
     "name": "stdout",
     "output_type": "stream",
     "text": [
      "Map saved as 'map_hydrology_queensland.html'\n"
     ]
    }
   ],
   "source": [
    "# 7. Save map in HTML\n",
    "mapa.save(\"../maps/map_hydrology_queensland.html\")\n",
    "print(\"Map saved as 'map_hydrology_queensland.html'\")"
   ]
  },
  {
   "cell_type": "code",
   "execution_count": 50,
   "id": "d0b3b3b4-482e-4564-8697-d0ae612972fa",
   "metadata": {},
   "outputs": [],
   "source": [
    "# 8. Export df to csv file\n",
    "df.to_csv('../data/processed/groundwater_clean.csv', index = False) "
   ]
  },
  {
   "cell_type": "code",
   "execution_count": null,
   "id": "a0a1c356-51a6-440a-8044-fad355dc3ca8",
   "metadata": {},
   "outputs": [],
   "source": []
  }
 ],
 "metadata": {
  "kernelspec": {
   "display_name": ".venv",
   "language": "python",
   "name": "python3"
  },
  "language_info": {
   "codemirror_mode": {
    "name": "ipython",
    "version": 3
   },
   "file_extension": ".py",
   "mimetype": "text/x-python",
   "name": "python",
   "nbconvert_exporter": "python",
   "pygments_lexer": "ipython3",
   "version": "3.13.7"
  }
 },
 "nbformat": 4,
 "nbformat_minor": 5
}
